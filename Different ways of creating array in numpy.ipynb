{
 "cells": [
  {
   "cell_type": "markdown",
   "metadata": {},
   "source": [
    "We saw in the post https://www.studytonight.com/post/beginners-guide-to-numpy , how to create numpy arrays and powerful they are.Let us separately dive deeper with more examples.\n"
   ]
  },
  {
   "cell_type": "markdown",
   "metadata": {},
   "source": [
    "# Different ways of creating numpy arrays:\n"
   ]
  },
  {
   "cell_type": "markdown",
   "metadata": {},
   "source": [
    "## 1. Intuiative approach: using numpy.array():\n",
    "\n",
    "Numpy arrays can be created very easily by passing a list in the function numpy.array().The python list when passed in this function gives us numpy array."
   ]
  },
  {
   "cell_type": "markdown",
   "metadata": {},
   "source": [
    "Let's import our favourite library **Numpy**:"
   ]
  },
  {
   "cell_type": "code",
   "execution_count": 2,
   "metadata": {},
   "outputs": [],
   "source": [
    "import numpy as np # why writing numpy again & again , use power of 'as' keeping it concise and write np."
   ]
  },
  {
   "cell_type": "code",
   "execution_count": 7,
   "metadata": {},
   "outputs": [
    {
     "name": "stdout",
     "output_type": "stream",
     "text": [
      "[8 5 6 9 4 2]\n"
     ]
    }
   ],
   "source": [
    "# making a python list li\n",
    "\n",
    "li=[8,5,6,9,4,2]\n",
    "\n",
    "\n",
    "# creating array out of it\n",
    "\n",
    "numpy_array=np.array(li)\n",
    "\n",
    "print(numpy_array)"
   ]
  },
  {
   "cell_type": "markdown",
   "metadata": {},
   "source": [
    "We can also pass a list manually without explicitly writing it ."
   ]
  },
  {
   "cell_type": "code",
   "execution_count": 12,
   "metadata": {},
   "outputs": [],
   "source": [
    "numpy_array=np.array([5,7,4,1,5,6])"
   ]
  },
  {
   "cell_type": "markdown",
   "metadata": {},
   "source": [
    "Other arguments which are optional can also be included while creating the numpy arrays.One you might find useful further is:\n",
    "\n",
    "->dtype: This argument specifies the data-type of the array created.Since, unlike lists all the elements in the numpy array are of same data-type.The dataypes ranging from float to complex, all are acceptable.\n",
    "\n",
    "Let us see with an example:\n",
    "\n"
   ]
  },
  {
   "cell_type": "code",
   "execution_count": 14,
   "metadata": {},
   "outputs": [
    {
     "data": {
      "text/plain": [
       "array([ 1.,  8.,  5., 59.,  8., 98.])"
      ]
     },
     "execution_count": 14,
     "metadata": {},
     "output_type": "execute_result"
    }
   ],
   "source": [
    "numpy_array=np.array([1,8,5,59,8,98],dtype=float)\n",
    "numpy_array"
   ]
  },
  {
   "cell_type": "code",
   "execution_count": 3,
   "metadata": {},
   "outputs": [
    {
     "data": {
      "text/plain": [
       "array(['the', 'air', 'after', 'summer', 'rain'], dtype='<U6')"
      ]
     },
     "execution_count": 3,
     "metadata": {},
     "output_type": "execute_result"
    }
   ],
   "source": [
    "# let's try numpy array with string as input\n",
    "string=['the','air','after','summer','rain']\n",
    "arr=np.array(string)\n",
    "arr"
   ]
  },
  {
   "cell_type": "markdown",
   "metadata": {},
   "source": [
    "In the similar manner other data-types can be used to create numpy array."
   ]
  },
  {
   "cell_type": "markdown",
   "metadata": {},
   "source": [
    "## 2. Using arange() function to create a numpy array:\n",
    "\n"
   ]
  },
  {
   "cell_type": "markdown",
   "metadata": {},
   "source": [
    "The arange() function is one of the numpy's useful method used for creating an array within a specified range.The first arguement takes the starting point of the array you want to create, second is the stop point and third is the step.The last argument is again dtype which is optional.\n",
    "\n",
    "arange(start,end,step,dtype)\n",
    "\n",
    "Among all of the arguments only end is mandatory and by default start=0 and step=1."
   ]
  },
  {
   "cell_type": "code",
   "execution_count": 18,
   "metadata": {},
   "outputs": [
    {
     "data": {
      "text/plain": [
       "array([ 0,  2,  4,  6,  8, 10])"
      ]
     },
     "execution_count": 18,
     "metadata": {},
     "output_type": "execute_result"
    }
   ],
   "source": [
    "# creating an array starting from 0 ending with 10 and increasing with a step of 2\n",
    "arange_array=np.arange(0,11,2) # writing 11 instead of 10 since range is exclusive \n",
    "arange_array"
   ]
  },
  {
   "cell_type": "markdown",
   "metadata": {},
   "source": [
    "Some more examples to make it crytsal clear:"
   ]
  },
  {
   "cell_type": "code",
   "execution_count": 17,
   "metadata": {},
   "outputs": [
    {
     "data": {
      "text/plain": [
       "array([ 0,  1,  2,  3,  4,  5,  6,  7,  8,  9, 10, 11, 12, 13, 14])"
      ]
     },
     "execution_count": 17,
     "metadata": {},
     "output_type": "execute_result"
    }
   ],
   "source": [
    "arr1=np.arange(15) # starting from 0(by default),stopping at 14(don't forget 15 is exclusive),step=1 (by default)\n",
    "arr1"
   ]
  },
  {
   "cell_type": "code",
   "execution_count": 21,
   "metadata": {},
   "outputs": [
    {
     "data": {
      "text/plain": [
       "array([100,  99,  98,  97,  96,  95,  94,  93,  92,  91,  90,  89,  88,\n",
       "        87,  86,  85,  84,  83,  82,  81,  80,  79,  78,  77,  76,  75,\n",
       "        74,  73,  72,  71,  70,  69,  68,  67,  66,  65,  64,  63,  62,\n",
       "        61,  60,  59,  58,  57,  56,  55,  54,  53,  52,  51,  50,  49,\n",
       "        48,  47,  46,  45,  44,  43,  42,  41,  40,  39,  38,  37,  36,\n",
       "        35,  34,  33,  32,  31,  30,  29,  28,  27,  26,  25,  24,  23,\n",
       "        22,  21,  20,  19,  18,  17,  16,  15,  14,  13,  12,  11,  10,\n",
       "         9,   8,   7,   6,   5,   4,   3,   2,   1])"
      ]
     },
     "execution_count": 21,
     "metadata": {},
     "output_type": "execute_result"
    }
   ],
   "source": [
    "# okaay now lets print backward counting:100 to 1\n",
    "arr2=np.arange(100,0,-1)\n",
    "arr2"
   ]
  },
  {
   "cell_type": "markdown",
   "metadata": {},
   "source": [
    "## 3. linspace():\n",
    "\n",
    "\n",
    "Like arange(), linspace can also be used to create numpy array but with more discipline.\n",
    "\n",
    "In arange function we had some start,end and step points but with linspace() we can maintain a proper stepping .\n",
    "Imagine when you have some arguments in arange() that your output array has elements not linearly stepped.In that case , linspace() comes to our rescue.\n",
    "\n",
    "\n",
    "As arguments , linspace takes start index,end index and number of elements to be outputted.These number of elements would be linearly spaced in the range mentioned.\n",
    "\n",
    "linspace(start_index,end_index,num_of_elements)"
   ]
  },
  {
   "cell_type": "code",
   "execution_count": 5,
   "metadata": {},
   "outputs": [
    {
     "data": {
      "text/plain": [
       "array([15.        , 21.66666667, 28.33333333, 35.        , 41.66666667,\n",
       "       48.33333333, 55.        , 61.66666667, 68.33333333, 75.        ])"
      ]
     },
     "execution_count": 5,
     "metadata": {},
     "output_type": "execute_result"
    }
   ],
   "source": [
    "arr=np.linspace(15,75,10)\n",
    "arr\n"
   ]
  },
  {
   "cell_type": "markdown",
   "metadata": {},
   "source": [
    "## 4. empty():\n",
    "\n",
    "Empty() function is used to create arrays when we don't really have any values to crate an array.What it does is , it takes the shape of the array desired and the array is created filled with random values.The trick here is without even using the random module we are able to build an array full of random values.Isn't that interesting?\n",
    "\n",
    "empty(shape,dtype)"
   ]
  },
  {
   "cell_type": "code",
   "execution_count": 10,
   "metadata": {},
   "outputs": [
    {
     "data": {
      "text/plain": [
       "array([[15.        , 21.66666667],\n",
       "       [28.33333333, 35.        ],\n",
       "       [41.66666667, 48.33333333],\n",
       "       [55.        , 61.66666667],\n",
       "       [68.33333333, 75.        ]])"
      ]
     },
     "execution_count": 10,
     "metadata": {},
     "output_type": "execute_result"
    }
   ],
   "source": [
    "arr=np.empty((5,2),dtype=float) # arr of shape (5,2) with datatype=float filled with random values.\n",
    "arr"
   ]
  },
  {
   "cell_type": "markdown",
   "metadata": {},
   "source": [
    "## 5. Random modules,eye(),ones(),zeros(),identity():\n",
    "\n",
    "Numpy arrays can also be created using the random module and it's functions like randn,randint etc.\n",
    "We can also use some awesome functions to create array full of ones or zeros using np.ones(shape_of_array),np.zeros(shape_of_arrays).\n",
    "\n",
    "We will explore these functions even more further in more tutorials.\n"
   ]
  },
  {
   "cell_type": "markdown",
   "metadata": {},
   "source": [
    "Stay connected,stay curious and show some love.Don't forget to share (np.array(['sharing','is','caring'])."
   ]
  },
  {
   "cell_type": "code",
   "execution_count": null,
   "metadata": {},
   "outputs": [],
   "source": []
  }
 ],
 "metadata": {
  "kernelspec": {
   "display_name": "Python 3",
   "language": "python",
   "name": "python3"
  },
  "language_info": {
   "codemirror_mode": {
    "name": "ipython",
    "version": 3
   },
   "file_extension": ".py",
   "mimetype": "text/x-python",
   "name": "python",
   "nbconvert_exporter": "python",
   "pygments_lexer": "ipython3",
   "version": "3.7.0"
  }
 },
 "nbformat": 4,
 "nbformat_minor": 2
}
