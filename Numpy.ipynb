{
 "cells": [
  {
   "cell_type": "markdown",
   "metadata": {},
   "source": [
    "# Ndarrays:\n",
    "\n",
    "Numpy's nd arrays or n dimensional arrays are used to create an array or matrix of N-Dimension.The dimension of an array is known as rank.The shape of an array represents the number of elements across each dimension.\n",
    "Numpy's arrays are created by simple using np.array() function.\n",
    "1. The elements in the array are accessed in similar manner as done in lists , i.e., via square brackets.All the elements of array are of same data type.\n",
    "\n",
    "\n",
    "eg:arr1[0] will give the element at index 0 of 1-D array\n",
    "\n",
    "\n",
    "arr2[1][4] will give the element at index 1,4 i.e. at row 1 and column 4\n",
    "2. To get the rank(dimension) of our array we can use ndim function.\n",
    "\n",
    "eg:arr.ndim\n",
    "\n",
    "3. To get the shape(number of columns and number of rows) of the array we can use shape function.\n",
    "\n",
    "eg:arr.shape\n",
    "\n"
   ]
  },
  {
   "cell_type": "code",
   "execution_count": 2,
   "metadata": {
    "scrolled": true
   },
   "outputs": [
    {
     "data": {
      "text/plain": [
       "array([1, 2, 3, 4, 5])"
      ]
     },
     "execution_count": 2,
     "metadata": {},
     "output_type": "execute_result"
    }
   ],
   "source": [
    "import numpy as np\n",
    "arr1=np.array([1,2,3,4,5]) # creating one dimensional array\n",
    "arr1"
   ]
  },
  {
   "cell_type": "code",
   "execution_count": 3,
   "metadata": {},
   "outputs": [
    {
     "data": {
      "text/plain": [
       "numpy.ndarray"
      ]
     },
     "execution_count": 3,
     "metadata": {},
     "output_type": "execute_result"
    }
   ],
   "source": [
    "type(arr1) # we can also inspect the type of array and obviously it tells us it is numpy's ndarray"
   ]
  },
  {
   "cell_type": "code",
   "execution_count": 4,
   "metadata": {},
   "outputs": [
    {
     "data": {
      "text/plain": [
       "array([[ 1,  2,  3],\n",
       "       [ 4,  5,  6],\n",
       "       [ 7,  8,  9],\n",
       "       [10, 11, 12]])"
      ]
     },
     "execution_count": 4,
     "metadata": {},
     "output_type": "execute_result"
    }
   ],
   "source": [
    "arr2=np.array([[1,2,3],[4,5,6],[7,8,9],[10,11,12]]) #creating two dimensional array\n",
    "arr2"
   ]
  },
  {
   "cell_type": "code",
   "execution_count": 5,
   "metadata": {},
   "outputs": [
    {
     "name": "stdout",
     "output_type": "stream",
     "text": [
      "(5,)\n",
      "(4, 3)\n",
      "1\n",
      "2\n"
     ]
    }
   ],
   "source": [
    "print(arr1.shape) #shape of arr1\n",
    "print(arr2.shape) #shape of arr2\n",
    "print(arr1.ndim) #dimension of arr1\n",
    "print(arr2.ndim) #dimension of arr2"
   ]
  },
  {
   "cell_type": "code",
   "execution_count": 6,
   "metadata": {},
   "outputs": [
    {
     "name": "stdout",
     "output_type": "stream",
     "text": [
      "3\n",
      "2\n",
      "4\n",
      "9\n",
      "11\n"
     ]
    }
   ],
   "source": [
    "print(arr1[2]) # element at index 2\n",
    "print(arr2[0][1]) #element at row=0 and column=1\n",
    "print(arr2[1][0])#element at row=1 and column=0\n",
    "print(arr2[2][2])#element at row=2 and column=2\n",
    "print(arr2[3][1])#element at row=3 and column=1"
   ]
  },
  {
   "cell_type": "markdown",
   "metadata": {},
   "source": [
    "We can also create arrays with extra arguments.Some of the optional  arguements are:\n",
    "\n",
    "1. dtype: By explicitly mentioning the datatype we can create arrays of that particular datatype.\n",
    "\n",
    "2. ndmin=Specifies minimum dimensions of resultant array\n",
    "\n",
    "3. order=It specifies whether array is column major (F) or row major (C).By default any(A)"
   ]
  },
  {
   "cell_type": "code",
   "execution_count": 7,
   "metadata": {},
   "outputs": [
    {
     "data": {
      "text/plain": [
       "array([[1.+0.j, 2.+0.j, 3.+0.j, 4.+0.j, 5.+0.j]])"
      ]
     },
     "execution_count": 7,
     "metadata": {},
     "output_type": "execute_result"
    }
   ],
   "source": [
    "arr3=np.array([1,2,3,4,5],ndmin=2,dtype=complex)\n",
    "arr3"
   ]
  },
  {
   "cell_type": "markdown",
   "metadata": {},
   "source": [
    "# How to reshape an array?\n",
    "\n",
    "After creating a one dimensional array what if we want it to convert to a two dimensional array?.In that case we can use reshape function.The reshape function is used to change the shape of the array.It takes the values of new shape desirable as arguements."
   ]
  },
  {
   "cell_type": "code",
   "execution_count": 8,
   "metadata": {},
   "outputs": [
    {
     "name": "stdout",
     "output_type": "stream",
     "text": [
      "[[1]\n",
      " [2]\n",
      " [3]\n",
      " [4]\n",
      " [5]]\n"
     ]
    },
    {
     "data": {
      "text/plain": [
       "(5, 1)"
      ]
     },
     "execution_count": 8,
     "metadata": {},
     "output_type": "execute_result"
    }
   ],
   "source": [
    "arr1=arr1.reshape(5,1) # converted arr1 (one-D array) to 2-D array\n",
    "print(arr1)\n",
    "arr1.shape"
   ]
  },
  {
   "cell_type": "markdown",
   "metadata": {},
   "source": [
    "We can also reshape the array using shape function.Check it out!"
   ]
  },
  {
   "cell_type": "code",
   "execution_count": 9,
   "metadata": {},
   "outputs": [
    {
     "data": {
      "text/plain": [
       "(5,)"
      ]
     },
     "execution_count": 9,
     "metadata": {},
     "output_type": "execute_result"
    }
   ],
   "source": [
    "arr1.shape=(5,) # converting arr1 to one-D again\n",
    "arr1.shape"
   ]
  },
  {
   "cell_type": "markdown",
   "metadata": {},
   "source": [
    "# Flatten and Ravel:\n",
    "\n",
    "A multi-dimensional array can be flattened using flatten() and ravel() functions.Irrespective of the dimension and shape , the new array formed using flatten and ravel is a one-D array.However  both works in the same manner ,the only difference is ravel is actually a reference to the parent array ,that is , any changes done to the array created using ravel is reflected back to the orginal/parent array.flatten() on the other hand creates a copy of the original array.But ravel() is memory efficient since does not creates a copy of the original array."
   ]
  },
  {
   "cell_type": "code",
   "execution_count": 52,
   "metadata": {},
   "outputs": [
    {
     "name": "stdout",
     "output_type": "stream",
     "text": [
      "[20 10 21 10 24  1 14 29 11 14 16 31 43 16 46 30 20 25  3 18]\n",
      "(20,)\n",
      "[[20 10 21 10 24]\n",
      " [ 1 14 29 11 14]\n",
      " [16 31 43 16 46]\n",
      " [30 20 25  3 18]]\n",
      "[20 10 21 10 24 51 14 29 11 14 16 31 43 16 46 30 20 25  3 18]\n"
     ]
    }
   ],
   "source": [
    "array=np.random.randint(1,50,size=(4,5))\n",
    "flattened_array=array.flatten()\n",
    "print(flattened_array)\n",
    "print(flattened_array.shape)\n",
    "# changing an element at any index will not effect the original array\n",
    "flattened_array[5]=51\n",
    "print(array) # check out  element at 2,0 is not affected\n",
    "print(flattened_array) #this is the copy of original array whose element at index 5 is effected ."
   ]
  },
  {
   "cell_type": "code",
   "execution_count": 53,
   "metadata": {},
   "outputs": [
    {
     "name": "stdout",
     "output_type": "stream",
     "text": [
      "[20 10 21 10 24  1 14 29 11 14 16 31 43 16 46 30 20 25  3 18]\n",
      "(20,)\n",
      "[[20 10 21 10 24]\n",
      " [51 14 29 11 14]\n",
      " [16 31 43 16 46]\n",
      " [30 20 25  3 18]]\n",
      "[20 10 21 10 24 51 14 29 11 14 16 31 43 16 46 30 20 25  3 18]\n"
     ]
    }
   ],
   "source": [
    "ravel_array=array.ravel()\n",
    "print(ravel_array)\n",
    "print(ravel_array.shape)\n",
    "# changing an element at any index will effect the original array\n",
    "ravel_array[5]=51\n",
    "print(array) # check out  element at 2,0 is affected\n",
    "print(ravel_array)"
   ]
  },
  {
   "cell_type": "markdown",
   "metadata": {},
   "source": [
    "# Slicing and Indexing One-D array:\n",
    "\n",
    "Arrays can be sliced so that subarrays could be formed.Slicing is done using colons \" : \" in sqaure brackets of the array.\n",
    "Let us say , we have an array=[1,2,4445,4657,767,878,86] and we want elements upto index 4.So we will do array[:5].\n",
    "What did I just do?\n",
    "array[:5] will slice the orignial array to create a sub-array having elements at indices 0,1,2,3,4. The index to the left of the ':' indicated the starting index of subarray including all the indices before the index present at right of ':'.\n",
    "\n",
    "**Note when I say before and not upto.Did you notice , to create a subarray upto 4th index why did I write :5 and not :4?\n",
    "\n",
    "Well the answer is,the number to the right of : is exclusive and number before : is inclusive.It is an open interval.Imagine slicing as [ : ).\n",
    "\n",
    "Let's understand with examples"
   ]
  },
  {
   "cell_type": "code",
   "execution_count": 10,
   "metadata": {},
   "outputs": [
    {
     "data": {
      "text/plain": [
       "array([ 5, 51, 35,  6, 59, 98])"
      ]
     },
     "execution_count": 10,
     "metadata": {},
     "output_type": "execute_result"
    }
   ],
   "source": [
    "array=np.array([5,51,35,6,59,98,74,56]) # new array created\n",
    "# creating sub-array starting from index 0 and ending at index 5.\n",
    "sub_array=array[:6] # 6 is exclusive\n",
    "sub_array"
   ]
  },
  {
   "cell_type": "markdown",
   "metadata": {},
   "source": [
    "What if we need sub-array not starting from index 0 but from somwehere between and goes till end?"
   ]
  },
  {
   "cell_type": "code",
   "execution_count": 11,
   "metadata": {},
   "outputs": [
    {
     "data": {
      "text/plain": [
       "array([59, 98, 74, 56])"
      ]
     },
     "execution_count": 11,
     "metadata": {},
     "output_type": "execute_result"
    }
   ],
   "source": [
    "sub_array2=array[4:] # creating sub_array starting from index 4 and going till end\n",
    "sub_array2"
   ]
  },
  {
   "cell_type": "markdown",
   "metadata": {},
   "source": [
    "What about starting from somewhere between and ending before the last index?\n"
   ]
  },
  {
   "cell_type": "code",
   "execution_count": 12,
   "metadata": {},
   "outputs": [
    {
     "data": {
      "text/plain": [
       "array([35,  6, 59, 98])"
      ]
     },
     "execution_count": 12,
     "metadata": {},
     "output_type": "execute_result"
    }
   ],
   "source": [
    "sub_array3=array[2:6] #sub_array starting from index 2 and ending at index 5\n",
    "sub_array3"
   ]
  },
  {
   "cell_type": "markdown",
   "metadata": {},
   "source": [
    "# Some Tricks:\n",
    "\n",
    "1. To exclude only the last element we can use [:-1]\n",
    "2. We can reverse the whole array with just one line of code .To reverse the whole array we can do [::-1]\n"
   ]
  },
  {
   "cell_type": "code",
   "execution_count": 13,
   "metadata": {},
   "outputs": [
    {
     "name": "stdout",
     "output_type": "stream",
     "text": [
      "[ 5 51 35  6 59 98 74]\n",
      "[56 74 98 59  6 35 51  5]\n"
     ]
    }
   ],
   "source": [
    "print(array[:-1]) #excluded last element 56\n",
    "print(array[::-1]) # reversing the array with just one line of code "
   ]
  },
  {
   "cell_type": "markdown",
   "metadata": {},
   "source": [
    "# Slicing Two -Dimensional Array:\n",
    "\n",
    "To slice a 2-D array, we just need to include one more ':' for columns.Say we are slicing a 2-D array arr.We will do \n",
    "\n",
    "\n",
    "arr[start_index row:end_index row , start_index column:end_index colummn]"
   ]
  },
  {
   "cell_type": "code",
   "execution_count": 14,
   "metadata": {},
   "outputs": [
    {
     "name": "stdout",
     "output_type": "stream",
     "text": [
      "[[213  24  35]\n",
      " [435 543 654]\n",
      " [765 677 898]\n",
      " [345  65 676]]\n",
      "\n",
      "[[435 543 654 675]\n",
      " [765 677 898 434]]\n",
      "\n",
      "[[677 898]\n",
      " [ 65 676]]\n"
     ]
    }
   ],
   "source": [
    "arr=np.array([[213,24,35,343],[435,543,654,675],[765,677,898,434],[345,65,676,55]]) # creating 2-D array\n",
    "#subarray having all the rows but columns 0,1 and 2 (3 is exclusive)\n",
    "sub_array1=arr[:,:3]\n",
    "print(sub_array1)\n",
    "\n",
    "print() # just for spacing\n",
    "# subarray having rows 1 and 2 but all the columns\n",
    "sub_array2=arr[1:3,:]\n",
    "print(sub_array2)\n",
    "\n",
    "print()\n",
    "# sub_array having rows 2,3 and columns 1,2\n",
    "sub_array3=arr[2:4,1:3]\n",
    "print(sub_array3)"
   ]
  },
  {
   "cell_type": "markdown",
   "metadata": {},
   "source": [
    "We can reverse the 2-D array too in the similar manner using [::-1]"
   ]
  },
  {
   "cell_type": "code",
   "execution_count": 15,
   "metadata": {},
   "outputs": [
    {
     "name": "stdout",
     "output_type": "stream",
     "text": [
      "[[345  65 676  55]\n",
      " [765 677 898 434]\n",
      " [435 543 654 675]\n",
      " [213  24  35 343]]\n",
      "\n",
      "[[ 55 676  65 345]\n",
      " [434 898 677 765]\n",
      " [675 654 543 435]\n",
      " [343  35  24 213]]\n"
     ]
    }
   ],
   "source": [
    "print(arr[::-1]) # reversing only rows\n",
    "print()\n",
    "print(arr[::-1,::-1]) #reversing both rows and columns"
   ]
  },
  {
   "cell_type": "markdown",
   "metadata": {},
   "source": [
    "Now, when you are perfectly comfortable with slicing, there's a point to be noted.When subarrays are created , they are not the copies of original array ,infact it is just a part of original array and modifying the sub_array would reflect changes in the original array too.Let us change element at 1,1 of sub_array3 and see what happens to original array 'arr'."
   ]
  },
  {
   "cell_type": "code",
   "execution_count": 16,
   "metadata": {},
   "outputs": [
    {
     "name": "stdout",
     "output_type": "stream",
     "text": [
      "[[213  24  35 343]\n",
      " [435 543 654 675]\n",
      " [765 677 898 434]\n",
      " [345  65 676  55]]\n",
      "676\n",
      "51\n",
      "[[213  24  35 343]\n",
      " [435 543 654 675]\n",
      " [765 677 898 434]\n",
      " [345  65  51  55]]\n"
     ]
    }
   ],
   "source": [
    "print(arr) #before changing anything\n",
    "print(sub_array3[1,1]) #before\n",
    "# changing element at 1,1\n",
    "sub_array3[1,1]=51\n",
    "print(sub_array3[1,1])\n",
    "print(arr) #after"
   ]
  },
  {
   "cell_type": "markdown",
   "metadata": {},
   "source": [
    "See how earlier 676 changes to 51 in the parent array even when the change was made in the subarray.So,we need to be very careful before modifying the sub_arrays too.\n",
    "\n",
    "How can we create subarrays not disturbing the parent array??\n",
    "\n",
    "We can use copy function while creating the sub_arrays.For example while creating sub_array3, we can use \n",
    "\n",
    "\n",
    "sub_array3=arr[2:4,1:3].copy().\n",
    "\n",
    "Thanks to copy() function , now we can easily modify our sub_array"
   ]
  },
  {
   "cell_type": "code",
   "execution_count": 17,
   "metadata": {},
   "outputs": [
    {
     "name": "stdout",
     "output_type": "stream",
     "text": [
      "[[213  24  35 343]\n",
      " [435 543 654 675]\n",
      " [765 677 898 434]\n",
      " [345  65  51  55]]\n"
     ]
    }
   ],
   "source": [
    "sub_array3=arr[2:4,1:3].copy()\n",
    "sub_array3[1,1]=74\n",
    "print(arr) # see parent array is not affected this time by modifying the sub_array"
   ]
  },
  {
   "cell_type": "markdown",
   "metadata": {},
   "source": [
    "# Random Functions:\n",
    "\n",
    "Numpy comes with multiple in-built random functions.Random numbers can be generated using these functions.These functions are randint,randn,rand.\n",
    "\n",
    "1. rand(): This function returns an array of shape mentioned explicitly ,filled with random values.\n",
    "\n",
    "2. randn():This function returns an array of shape mentioned explicitly ,filled with values from standard normal distribution.The values are always between 0 and 1.\n",
    "\n",
    "3. randint():This function returns an array of shape mentioned explicitly ,filled with random integer values.If size keyword is not explicitly mentioned this function will give a random integer value between the range mentioned instead of the array.\n",
    "\n",
    "4. empty(): It is not a random function but I have included it in this list for a reason.When we don't have values to initialize array, we use empty() to create an array of mentioned shape but , since we didn't have any values to initialoze the array is initialized with **random** values.\n",
    "\n",
    "Let us dive deeper using examples"
   ]
  },
  {
   "cell_type": "code",
   "execution_count": 72,
   "metadata": {},
   "outputs": [
    {
     "name": "stdout",
     "output_type": "stream",
     "text": [
      "[[0.03908334 0.40234138 0.60916349 0.64606333]\n",
      " [0.95770416 0.88192191 0.02603794 0.16827959]\n",
      " [0.95658569 0.64633868 0.2402162  0.70489876]]\n",
      "[[-0.71718046 -0.7490696   0.84051313 -0.84280078]\n",
      " [-0.5244028  -0.34199123  1.04720132 -0.71268941]]\n",
      "34\n",
      "[[29 12 18]\n",
      " [39  9 11]]\n",
      "[[ -827767968  1069999147 -1874888880  1069478598]\n",
      " [-2009517503  1071852745  1548966256  1070060647]]\n"
     ]
    }
   ],
   "source": [
    "print(np.random.rand(3,4)) #creates array of shape 3,4 having random values\n",
    "print(np.random.randn(2,4)) #creates array of shape 2,4 having values from standard normal distribution.\n",
    "print(np.random.randint(10,50)) #random inetger value between 10(inclusive) and 50(exclusive)\n",
    "print(np.random.randint(4,40,size=(2,3))) # creates array of shape 4,5 having random integer values\n",
    "print(np.empty((2,4),dtype=int)) # empty arrays of shape(2,4)"
   ]
  },
  {
   "cell_type": "markdown",
   "metadata": {},
   "source": [
    "# arange ():\n",
    "\n",
    "arange(start,stop,step): arange function returns an array with sequence of numbers between the mentioned intervals .Out of the given arguements only stop is mandatory and by deafult start=0 and step=1."
   ]
  },
  {
   "cell_type": "code",
   "execution_count": 19,
   "metadata": {},
   "outputs": [
    {
     "name": "stdout",
     "output_type": "stream",
     "text": [
      "[0 1 2 3 4 5 6 7 8 9]\n",
      "[ 5  7  9 11 13 15 17 19]\n"
     ]
    }
   ],
   "source": [
    "print(np.arange(10))\n",
    "print(np.arange(5,20,2))"
   ]
  },
  {
   "cell_type": "markdown",
   "metadata": {},
   "source": [
    "# arange() vs linspace():\n",
    "\n",
    "We used arange() function to generate a sequence of numbers between the start and stop index with step mentioned(1 by default).But what if we are concerned about the number of elements ?\n",
    "\n",
    "for example: np.arange(1,55,1) would generate an array of 55 elements starting from 1 and ending at 55 but what if we want only 10 numbers between 1 and 55?\n",
    "\n",
    "We have to calculate a step function for it , manually creatig step function might give us a headache so taking advantage of numpy's great function linspace we can create the array of as many elements as we want , without explicitly calculating step function.\n",
    "linspace function can be executed as follows: \n",
    "\n",
    "np.linspace(start_index,end_index,no_of_elements,dtype) "
   ]
  },
  {
   "cell_type": "code",
   "execution_count": 56,
   "metadata": {},
   "outputs": [
    {
     "name": "stdout",
     "output_type": "stream",
     "text": [
      "[ 1.  7. 13. 19. 25. 31. 37. 43. 49. 55.]\n",
      "[20.         23.92857143 27.85714286 31.78571429 35.71428571 39.64285714\n",
      " 43.57142857 47.5        51.42857143 55.35714286 59.28571429 63.21428571\n",
      " 67.14285714 71.07142857 75.        ]\n"
     ]
    }
   ],
   "source": [
    "linspace_array1=np.linspace(1,55,num=10) # by default dtype=int\n",
    "print(linspace_array1)\n",
    "\n",
    "linspace_array2=np.linspace(20,75,num=15,dtype=float) # explicitly mentioning dtype as float\n",
    "print(linspace_array2)"
   ]
  },
  {
   "cell_type": "markdown",
   "metadata": {},
   "source": [
    "# How to generate reverse counting using arange():\n",
    "\n",
    "It's very simple , to generate the reverese counting using arange function we just need to appropriately set the start and step index. For example: print counting 50 to 1 in reverse order:"
   ]
  },
  {
   "cell_type": "code",
   "execution_count": 20,
   "metadata": {},
   "outputs": [
    {
     "data": {
      "text/plain": [
       "array([50, 49, 48, 47, 46, 45, 44, 43, 42, 41, 40, 39, 38, 37, 36, 35, 34,\n",
       "       33, 32, 31, 30, 29, 28, 27, 26, 25, 24, 23, 22, 21, 20, 19, 18, 17,\n",
       "       16, 15, 14, 13, 12, 11, 10,  9,  8,  7,  6,  5,  4,  3,  2])"
      ]
     },
     "execution_count": 20,
     "metadata": {},
     "output_type": "execute_result"
    }
   ],
   "source": [
    "np.arange(50,1,-1)\n"
   ]
  },
  {
   "cell_type": "markdown",
   "metadata": {},
   "source": [
    "# Other useful functions:\n",
    "\n",
    "We can create arrays filled with same values like 1 or 0 with the following functions:\n",
    "\n",
    "1. np.ones() : creates an array of shape mentioned filled completely with one's.\n",
    "\n",
    "2. np.zeros() :creates an array of shape mentioned filled completely with zeros.\n",
    "\n",
    "3. We can also create an identity matrix using the eye() function."
   ]
  },
  {
   "cell_type": "code",
   "execution_count": 23,
   "metadata": {},
   "outputs": [
    {
     "name": "stdout",
     "output_type": "stream",
     "text": [
      "[[1.]\n",
      " [1.]\n",
      " [1.]]\n",
      "[[0.]\n",
      " [0.]]\n",
      "[[1. 0. 0. 0.]\n",
      " [0. 1. 0. 0.]\n",
      " [0. 0. 1. 0.]\n",
      " [0. 0. 0. 1.]]\n"
     ]
    }
   ],
   "source": [
    "print(np.ones((3,1))) #3 x 1 matrix filled with one\n",
    "print(np.zeros((2,1))) # 2 X 1 matrix filled with zero\n",
    "print(np.eye(4,4)) # 4 X 4 identity matrix"
   ]
  },
  {
   "cell_type": "markdown",
   "metadata": {},
   "source": [
    "# Getting unique items and counts:\n",
    "\n",
    "We can get unique items in an array by using .unique() function.In an array consisting duplicate values , unique function will return all the unique elements.To get the number of times duplicate elements have occured we can add optional parameter return_counts=True within unique () function.\n",
    "\n",
    "\n",
    "The count() function when used separately gives us an array telling how many times a substring has occured.For example if we have an array of strings and we want to count how many times a substring (say aa) has occured , we can use .count() function."
   ]
  },
  {
   "cell_type": "code",
   "execution_count": 28,
   "metadata": {},
   "outputs": [
    {
     "name": "stdout",
     "output_type": "stream",
     "text": [
      "The array was  [ 5  6  9  9  7 11  9 12 10  9]\n",
      "The unique elements are  [ 5  6  7  9 10 11 12]\n",
      "The count of each duplicate element= [1 1 1 4 1 1 1]\n"
     ]
    }
   ],
   "source": [
    "arr=np.random.randint(5,15,size=(10))\n",
    "unique_ele,count_duplicates=np.unique(arr,return_counts=True)\n",
    "print('The array was ',arr)\n",
    "print('The unique elements are ',unique_ele)\n",
    "print('The count of each duplicate element=',count_duplicates)"
   ]
  },
  {
   "cell_type": "code",
   "execution_count": 30,
   "metadata": {},
   "outputs": [
    {
     "data": {
      "text/plain": [
       "array([1, 2])"
      ]
     },
     "execution_count": 30,
     "metadata": {},
     "output_type": "execute_result"
    }
   ],
   "source": [
    "# using count()\n",
    "string=np.array(['abraabracacadabra','braadatataa'])\n",
    "count=np.char.count(string,'aa') #aa has occured once in the first string and twice in the second string\n",
    "count"
   ]
  },
  {
   "cell_type": "markdown",
   "metadata": {},
   "source": [
    "# Handling Missing Values:\n",
    "\n",
    "When we don't have any value to enter at any index of array , we can use NaN and inf to fill the vacant place.\n",
    "\n",
    "1. NaN : Not a Number is used to fill the missing values using np.nan.\n",
    "\n",
    "2. inf: inf is used to fill the missing values with infinity using np.inf"
   ]
  },
  {
   "cell_type": "code",
   "execution_count": 31,
   "metadata": {},
   "outputs": [
    {
     "data": {
      "text/plain": [
       "array([ 1.,  2., nan,  5.,  6.,  8., inf])"
      ]
     },
     "execution_count": 31,
     "metadata": {},
     "output_type": "execute_result"
    }
   ],
   "source": [
    "arr1=np.array([1,2,np.nan,5,6,8,np.inf])\n",
    "arr1"
   ]
  },
  {
   "cell_type": "code",
   "execution_count": 34,
   "metadata": {},
   "outputs": [
    {
     "data": {
      "text/plain": [
       "array([[-1.37689227,  1.19784382],\n",
       "       [ 1.06620329, -0.57175075],\n",
       "       [-1.89972935,         nan],\n",
       "       [ 0.03320592,  1.24954611],\n",
       "       [ 1.0083424 ,         inf]])"
      ]
     },
     "execution_count": 34,
     "metadata": {},
     "output_type": "execute_result"
    }
   ],
   "source": [
    "# we can also explicitly set values as NaN and inf\n",
    "arr2=np.random.randn(5,2)\n",
    "arr2[2,1]=np.nan\n",
    "arr2[4,1]=np.inf\n",
    "arr2"
   ]
  },
  {
   "cell_type": "markdown",
   "metadata": {},
   "source": [
    "# Using Some mathematical functions with numpy:\n",
    "\n",
    "1. max(): We can get the maximum value out of array using ndarray.max()\n",
    "\n",
    "2. min(): We can get the minimum value out of array using ndarray.min()\n",
    "\n",
    "3. mean(): We can calculate mean value of an array using ndarray.mean()\n",
    " \n",
    "4. sin()/cos():We can use np.sin() and np.cos() functions.\n"
   ]
  },
  {
   "cell_type": "code",
   "execution_count": 40,
   "metadata": {},
   "outputs": [
    {
     "name": "stdout",
     "output_type": "stream",
     "text": [
      "Element having maximum value is= 0.8422914028149177\n",
      "Element having minimum value is= 0.12089196225812526\n",
      "Mean value is= 0.46214928075109707\n"
     ]
    }
   ],
   "source": [
    "\n",
    "arr=np.random.rand(2,4)\n",
    "print('Element having maximum value is=',arr.max())\n",
    "print('Element having minimum value is=',arr.min())\n",
    "print('Mean value is=',arr.mean())"
   ]
  },
  {
   "cell_type": "code",
   "execution_count": 42,
   "metadata": {},
   "outputs": [
    {
     "name": "stdout",
     "output_type": "stream",
     "text": [
      "[0.52290302 0.69533461 0.8422914  0.55154828]\n",
      "[0.17883823 0.12089196 0.59921719 0.18616955]\n",
      "[0.8422914  0.69533461]\n",
      "[0.12089196 0.52290302]\n"
     ]
    }
   ],
   "source": [
    "# to calculate max values column wise use amax() with axis=0\n",
    "print(np.amax(arr,axis=0))\n",
    "# to calculate min values column wise use amin() with axis=0\n",
    "print(np.amin(arr,axis=0))\n",
    "# to calculate max values column wise use amax() with axis=1\n",
    "\n",
    "print(np.amax(arr,axis=1))\n",
    "# to calculate max values column wise use amax() with axis=1\n",
    "\n",
    "print(np.amin(arr,axis=1))"
   ]
  },
  {
   "cell_type": "markdown",
   "metadata": {},
   "source": [
    "# Stacking :\n",
    "\n",
    "If we have multuple arrays and we want to concatenate/stack them we can use 3 different methods:\n",
    "1. np.concatenate([x,y],axis): Simply passing the arrays as arguements in this function will return one array having elements of both the arrays.We can even use axis=0 or axis=1 to concatenate column or row wise.\n",
    "\n",
    "2. np.hstack(),np.vstack([x,y]):One of my favourite methods, intuitively hstack will stack the arrays horizontally(row-wise) and vstack will stack the elements vertically(column-wise).\n",
    "\n",
    "3. np.r_[x,y] and np.c_[x,y]: np.r[] will concatenate elements of array row-wise and np.c[] will concatenate elements of array column-wise.\n",
    "\n",
    "\n",
    "#### Note: For stacking the dimensions of the arrays should be same"
   ]
  },
  {
   "cell_type": "code",
   "execution_count": 60,
   "metadata": {},
   "outputs": [
    {
     "name": "stdout",
     "output_type": "stream",
     "text": [
      "Using Concatenate function: [[ 3  6  1 15 15 18]\n",
      " [ 5  7  2 19 18 15]]\n",
      "Using hstack function: [[ 3  6  1 15 15 18]\n",
      " [ 5  7  2 19 18 15]]\n",
      "Using vstack function: [[ 3  6  1]\n",
      " [ 5  7  2]\n",
      " [15 15 18]\n",
      " [19 18 15]]\n",
      "Using np.r_ function: [[ 3  6  1]\n",
      " [ 5  7  2]\n",
      " [15 15 18]\n",
      " [19 18 15]]\n",
      "Using np.c_ function: [[ 3  6  1 15 15 18]\n",
      " [ 5  7  2 19 18 15]]\n"
     ]
    }
   ],
   "source": [
    "x=np.random.randint(1,10,size=(2,3))\n",
    "y=np.random.randint(11,20,size=(2,3))\n",
    "print('Using Concatenate function:',np.concatenate([x,y],axis=1))\n",
    "print('Using hstack function:',np.hstack([x,y]))\n",
    "print('Using vstack function:',np.vstack([x,y]))\n",
    "print('Using np.r_ function:',np.r_[x,y])\n",
    "print('Using np.c_ function:',np.c_[x,y])\n",
    "\n"
   ]
  },
  {
   "cell_type": "markdown",
   "metadata": {},
   "source": [
    "# Working on dates with numpy:\n",
    "\n",
    "Numpy has extremely useful funcyion called datetime64 which is used to show the current date and time.We can easily calculate yesterday's and tommorows's date too using another function timedelta64 with this function."
   ]
  },
  {
   "cell_type": "code",
   "execution_count": 71,
   "metadata": {},
   "outputs": [
    {
     "name": "stdout",
     "output_type": "stream",
     "text": [
      "Today's date is: 2019-08-24\n",
      "Yesterday's date : 2019-08-23\n",
      "Tomorrow's date : 2019-08-25\n"
     ]
    }
   ],
   "source": [
    "today=np.datetime64('today')\n",
    "print(\"Today's date is:\",today)\n",
    "yesterday = np.datetime64('today') - np.timedelta64(1)\n",
    "print(\"Yesterday's date :\",yesterday)\n",
    "tomorrow  = np.datetime64('today') + np.timedelta64(1)\n",
    "print(\"Tomorrow's date :\",tomorrow)"
   ]
  },
  {
   "cell_type": "markdown",
   "metadata": {},
   "source": [
    "# Using np.meshgrid():\n",
    "\n",
    "np.meshgrid function is extremely useful in visualization.Some matplotlib's function like contourf plots requires numpy's meshgrid to plot on.The purpose of meshgrid is to create a rectangular grid out of an array of x values and an array of y values so that we have each integer point for all the (x,y) points."
   ]
  },
  {
   "cell_type": "code",
   "execution_count": 83,
   "metadata": {},
   "outputs": [
    {
     "data": {
      "text/plain": [
       "<matplotlib.contour.QuadContourSet at 0x29c442a5b70>"
      ]
     },
     "execution_count": 83,
     "metadata": {},
     "output_type": "execute_result"
    },
    {
     "data": {
      "image/png": "[encoded data removed]",
      "text/plain": [
       "<Figure size 432x288 with 1 Axes>"
      ]
     },
     "metadata": {
      "needs_background": "light"
     },
     "output_type": "display_data"
    }
   ],
   "source": [
    "import matplotlib.pyplot as plt\n",
    "x = np.arange(-6, 6, 0.1)\n",
    "y = np.arange(-6, 6, 0.1)\n",
    "x_, y_ = np.meshgrid(x, y, sparse=True)\n",
    "z = np.sin(x_**2 + y_**2) / (x_**2 + y_**2)\n",
    "plt.contourf(x,y,z)\n"
   ]
  },
  {
   "cell_type": "code",
   "execution_count": null,
   "metadata": {},
   "outputs": [],
   "source": []
  }
 ],
 "metadata": {
  "kernelspec": {
   "display_name": "Python 3",
   "language": "python",
   "name": "python3"
  },
  "language_info": {
   "codemirror_mode": {
    "name": "ipython",
    "version": 3
   },
   "file_extension": ".py",
   "mimetype": "text/x-python",
   "name": "python",
   "nbconvert_exporter": "python",
   "pygments_lexer": "ipython3",
   "version": "3.7.0"
  }
 },
 "nbformat": 4,
 "nbformat_minor": 2
}
